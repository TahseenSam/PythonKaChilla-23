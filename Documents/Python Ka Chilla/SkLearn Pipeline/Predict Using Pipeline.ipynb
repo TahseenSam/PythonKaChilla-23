{
 "cells": [
  {
   "cell_type": "code",
   "execution_count": 1,
   "id": "2bbe1721",
   "metadata": {},
   "outputs": [],
   "source": [
    "import pickle as pkl\n",
    "import numpy as np"
   ]
  },
  {
   "cell_type": "code",
   "execution_count": 2,
   "id": "3728957f",
   "metadata": {},
   "outputs": [
    {
     "data": {
      "text/plain": [
       "Pipeline(steps=[('trf1',\n",
       "                 ColumnTransformer(remainder='passthrough',\n",
       "                                   transformers=[('Impute Age', SimpleImputer(),\n",
       "                                                  [2]),\n",
       "                                                 ('impute_embarked',\n",
       "                                                  SimpleImputer(strategy='most_frequent'),\n",
       "                                                  [6])])),\n",
       "                ('trf2',\n",
       "                 ColumnTransformer(remainder='passthrough',\n",
       "                                   transformers=[('OHE_SEX_Embarked',\n",
       "                                                  OneHotEncoder(handle_unknown='ignore',\n",
       "                                                                sparse=False),\n",
       "                                                  [1, 6])])),\n",
       "                ('trf3',\n",
       "                 ColumnTransformer(transformers=[('scale', MinMaxScaler(),\n",
       "                                                  slice(0, 10, None))])),\n",
       "                ('trf4',\n",
       "                 SelectKBest(k=8,\n",
       "                             score_func=<function chi2 at 0x000002323A98C280>)),\n",
       "                ('trf5', DecisionTreeClassifier())])"
      ]
     },
     "execution_count": 2,
     "metadata": {},
     "output_type": "execute_result"
    }
   ],
   "source": [
    "pipe = pkl.load(open(\"pipe.pkl\",\"rb\"))\n",
    "pipe"
   ]
  },
  {
   "cell_type": "code",
   "execution_count": 3,
   "id": "37008407",
   "metadata": {},
   "outputs": [],
   "source": [
    "from sklearn import set_config\n",
    "set_config(display=\"diagram\")"
   ]
  },
  {
   "cell_type": "code",
   "execution_count": 5,
   "id": "9417c6e0",
   "metadata": {},
   "outputs": [
    {
     "data": {
      "text/html": [
       "<style>#sk-8da50f20-a462-46ed-bf19-cd444eccb0e8 {color: black;background-color: white;}#sk-8da50f20-a462-46ed-bf19-cd444eccb0e8 pre{padding: 0;}#sk-8da50f20-a462-46ed-bf19-cd444eccb0e8 div.sk-toggleable {background-color: white;}#sk-8da50f20-a462-46ed-bf19-cd444eccb0e8 label.sk-toggleable__label {cursor: pointer;display: block;width: 100%;margin-bottom: 0;padding: 0.2em 0.3em;box-sizing: border-box;text-align: center;}#sk-8da50f20-a462-46ed-bf19-cd444eccb0e8 div.sk-toggleable__content {max-height: 0;max-width: 0;overflow: hidden;text-align: left;background-color: #f0f8ff;}#sk-8da50f20-a462-46ed-bf19-cd444eccb0e8 div.sk-toggleable__content pre {margin: 0.2em;color: black;border-radius: 0.25em;background-color: #f0f8ff;}#sk-8da50f20-a462-46ed-bf19-cd444eccb0e8 input.sk-toggleable__control:checked~div.sk-toggleable__content {max-height: 200px;max-width: 100%;overflow: auto;}#sk-8da50f20-a462-46ed-bf19-cd444eccb0e8 div.sk-estimator input.sk-toggleable__control:checked~label.sk-toggleable__label {background-color: #d4ebff;}#sk-8da50f20-a462-46ed-bf19-cd444eccb0e8 div.sk-label input.sk-toggleable__control:checked~label.sk-toggleable__label {background-color: #d4ebff;}#sk-8da50f20-a462-46ed-bf19-cd444eccb0e8 input.sk-hidden--visually {border: 0;clip: rect(1px 1px 1px 1px);clip: rect(1px, 1px, 1px, 1px);height: 1px;margin: -1px;overflow: hidden;padding: 0;position: absolute;width: 1px;}#sk-8da50f20-a462-46ed-bf19-cd444eccb0e8 div.sk-estimator {font-family: monospace;background-color: #f0f8ff;margin: 0.25em 0.25em;border: 1px dotted black;border-radius: 0.25em;box-sizing: border-box;}#sk-8da50f20-a462-46ed-bf19-cd444eccb0e8 div.sk-estimator:hover {background-color: #d4ebff;}#sk-8da50f20-a462-46ed-bf19-cd444eccb0e8 div.sk-parallel-item::after {content: \"\";width: 100%;border-bottom: 1px solid gray;flex-grow: 1;}#sk-8da50f20-a462-46ed-bf19-cd444eccb0e8 div.sk-label:hover label.sk-toggleable__label {background-color: #d4ebff;}#sk-8da50f20-a462-46ed-bf19-cd444eccb0e8 div.sk-serial::before {content: \"\";position: absolute;border-left: 1px solid gray;box-sizing: border-box;top: 2em;bottom: 0;left: 50%;}#sk-8da50f20-a462-46ed-bf19-cd444eccb0e8 div.sk-serial {display: flex;flex-direction: column;align-items: center;background-color: white;}#sk-8da50f20-a462-46ed-bf19-cd444eccb0e8 div.sk-item {z-index: 1;}#sk-8da50f20-a462-46ed-bf19-cd444eccb0e8 div.sk-parallel {display: flex;align-items: stretch;justify-content: center;background-color: white;}#sk-8da50f20-a462-46ed-bf19-cd444eccb0e8 div.sk-parallel-item {display: flex;flex-direction: column;position: relative;background-color: white;}#sk-8da50f20-a462-46ed-bf19-cd444eccb0e8 div.sk-parallel-item:first-child::after {align-self: flex-end;width: 50%;}#sk-8da50f20-a462-46ed-bf19-cd444eccb0e8 div.sk-parallel-item:last-child::after {align-self: flex-start;width: 50%;}#sk-8da50f20-a462-46ed-bf19-cd444eccb0e8 div.sk-parallel-item:only-child::after {width: 0;}#sk-8da50f20-a462-46ed-bf19-cd444eccb0e8 div.sk-dashed-wrapped {border: 1px dashed gray;margin: 0.2em;box-sizing: border-box;padding-bottom: 0.1em;background-color: white;position: relative;}#sk-8da50f20-a462-46ed-bf19-cd444eccb0e8 div.sk-label label {font-family: monospace;font-weight: bold;background-color: white;display: inline-block;line-height: 1.2em;}#sk-8da50f20-a462-46ed-bf19-cd444eccb0e8 div.sk-label-container {position: relative;z-index: 2;text-align: center;}#sk-8da50f20-a462-46ed-bf19-cd444eccb0e8 div.sk-container {display: inline-block;position: relative;}</style><div id=\"sk-8da50f20-a462-46ed-bf19-cd444eccb0e8\" class\"sk-top-container\"><div class=\"sk-container\"><div class=\"sk-item sk-dashed-wrapped\"><div class=\"sk-label-container\"><div class=\"sk-label sk-toggleable\"><input class=\"sk-toggleable__control sk-hidden--visually\" id=\"9f803f83-1bdf-41c2-9f05-8de7e37064a3\" type=\"checkbox\" ><label class=\"sk-toggleable__label\" for=\"9f803f83-1bdf-41c2-9f05-8de7e37064a3\">Pipeline</label><div class=\"sk-toggleable__content\"><pre>Pipeline(steps=[('trf1',\n",
       "                 ColumnTransformer(remainder='passthrough',\n",
       "                                   transformers=[('Impute Age', SimpleImputer(),\n",
       "                                                  [2]),\n",
       "                                                 ('impute_embarked',\n",
       "                                                  SimpleImputer(strategy='most_frequent'),\n",
       "                                                  [6])])),\n",
       "                ('trf2',\n",
       "                 ColumnTransformer(remainder='passthrough',\n",
       "                                   transformers=[('OHE_SEX_Embarked',\n",
       "                                                  OneHotEncoder(handle_unknown='ignore',\n",
       "                                                                sparse=False),\n",
       "                                                  [1, 6])])),\n",
       "                ('trf3',\n",
       "                 ColumnTransformer(transformers=[('scale', MinMaxScaler(),\n",
       "                                                  slice(0, 10, None))])),\n",
       "                ('trf4',\n",
       "                 SelectKBest(k=8,\n",
       "                             score_func=<function chi2 at 0x000002323A98C280>)),\n",
       "                ('trf5', DecisionTreeClassifier())])</pre></div></div></div><div class=\"sk-serial\"><div class=\"sk-item sk-dashed-wrapped\"><div class=\"sk-label-container\"><div class=\"sk-label sk-toggleable\"><input class=\"sk-toggleable__control sk-hidden--visually\" id=\"9aaf0256-cf92-46f9-9a37-814936a593f8\" type=\"checkbox\" ><label class=\"sk-toggleable__label\" for=\"9aaf0256-cf92-46f9-9a37-814936a593f8\">trf1: ColumnTransformer</label><div class=\"sk-toggleable__content\"><pre>ColumnTransformer(remainder='passthrough',\n",
       "                  transformers=[('Impute Age', SimpleImputer(), [2]),\n",
       "                                ('impute_embarked',\n",
       "                                 SimpleImputer(strategy='most_frequent'),\n",
       "                                 [6])])</pre></div></div></div><div class=\"sk-parallel\"><div class=\"sk-parallel-item\"><div class=\"sk-item\"><div class=\"sk-label-container\"><div class=\"sk-label sk-toggleable\"><input class=\"sk-toggleable__control sk-hidden--visually\" id=\"095261dc-9289-45ae-ab63-d5582f390933\" type=\"checkbox\" ><label class=\"sk-toggleable__label\" for=\"095261dc-9289-45ae-ab63-d5582f390933\">Impute Age</label><div class=\"sk-toggleable__content\"><pre>[2]</pre></div></div></div><div class=\"sk-serial\"><div class=\"sk-item\"><div class=\"sk-estimator sk-toggleable\"><input class=\"sk-toggleable__control sk-hidden--visually\" id=\"5c05b0bd-f8e7-406f-8f12-c28002a756f8\" type=\"checkbox\" ><label class=\"sk-toggleable__label\" for=\"5c05b0bd-f8e7-406f-8f12-c28002a756f8\">SimpleImputer</label><div class=\"sk-toggleable__content\"><pre>SimpleImputer()</pre></div></div></div></div></div></div><div class=\"sk-parallel-item\"><div class=\"sk-item\"><div class=\"sk-label-container\"><div class=\"sk-label sk-toggleable\"><input class=\"sk-toggleable__control sk-hidden--visually\" id=\"c8c8e27b-8df1-45e5-a3ed-6f077a51cfce\" type=\"checkbox\" ><label class=\"sk-toggleable__label\" for=\"c8c8e27b-8df1-45e5-a3ed-6f077a51cfce\">impute_embarked</label><div class=\"sk-toggleable__content\"><pre>[6]</pre></div></div></div><div class=\"sk-serial\"><div class=\"sk-item\"><div class=\"sk-estimator sk-toggleable\"><input class=\"sk-toggleable__control sk-hidden--visually\" id=\"064a96ae-e854-4b0a-8d48-be3d321d0b86\" type=\"checkbox\" ><label class=\"sk-toggleable__label\" for=\"064a96ae-e854-4b0a-8d48-be3d321d0b86\">SimpleImputer</label><div class=\"sk-toggleable__content\"><pre>SimpleImputer(strategy='most_frequent')</pre></div></div></div></div></div></div><div class=\"sk-parallel-item\"><div class=\"sk-item\"><div class=\"sk-label-container\"><div class=\"sk-label sk-toggleable\"><input class=\"sk-toggleable__control sk-hidden--visually\" id=\"8d70c479-936c-460c-ba1e-6e43dc5a200a\" type=\"checkbox\" ><label class=\"sk-toggleable__label\" for=\"8d70c479-936c-460c-ba1e-6e43dc5a200a\">remainder</label><div class=\"sk-toggleable__content\"><pre>['pclass', 'sex', 'sibsp', 'parch', 'fare']</pre></div></div></div><div class=\"sk-serial\"><div class=\"sk-item\"><div class=\"sk-estimator sk-toggleable\"><input class=\"sk-toggleable__control sk-hidden--visually\" id=\"421cf17a-34be-4332-a050-b85625697ae6\" type=\"checkbox\" ><label class=\"sk-toggleable__label\" for=\"421cf17a-34be-4332-a050-b85625697ae6\">passthrough</label><div class=\"sk-toggleable__content\"><pre>passthrough</pre></div></div></div></div></div></div></div></div><div class=\"sk-item sk-dashed-wrapped\"><div class=\"sk-label-container\"><div class=\"sk-label sk-toggleable\"><input class=\"sk-toggleable__control sk-hidden--visually\" id=\"cbbb07a5-f3df-46c1-adb3-d85873f99e83\" type=\"checkbox\" ><label class=\"sk-toggleable__label\" for=\"cbbb07a5-f3df-46c1-adb3-d85873f99e83\">trf2: ColumnTransformer</label><div class=\"sk-toggleable__content\"><pre>ColumnTransformer(remainder='passthrough',\n",
       "                  transformers=[('OHE_SEX_Embarked',\n",
       "                                 OneHotEncoder(handle_unknown='ignore',\n",
       "                                               sparse=False),\n",
       "                                 [1, 6])])</pre></div></div></div><div class=\"sk-parallel\"><div class=\"sk-parallel-item\"><div class=\"sk-item\"><div class=\"sk-label-container\"><div class=\"sk-label sk-toggleable\"><input class=\"sk-toggleable__control sk-hidden--visually\" id=\"7d7d9652-17f9-4458-bb02-24b0fd4af57e\" type=\"checkbox\" ><label class=\"sk-toggleable__label\" for=\"7d7d9652-17f9-4458-bb02-24b0fd4af57e\">OHE_SEX_Embarked</label><div class=\"sk-toggleable__content\"><pre>[1, 6]</pre></div></div></div><div class=\"sk-serial\"><div class=\"sk-item\"><div class=\"sk-estimator sk-toggleable\"><input class=\"sk-toggleable__control sk-hidden--visually\" id=\"5320343c-c97c-4b19-ac04-4b949afd6aa7\" type=\"checkbox\" ><label class=\"sk-toggleable__label\" for=\"5320343c-c97c-4b19-ac04-4b949afd6aa7\">OneHotEncoder</label><div class=\"sk-toggleable__content\"><pre>OneHotEncoder(handle_unknown='ignore', sparse=False)</pre></div></div></div></div></div></div><div class=\"sk-parallel-item\"><div class=\"sk-item\"><div class=\"sk-label-container\"><div class=\"sk-label sk-toggleable\"><input class=\"sk-toggleable__control sk-hidden--visually\" id=\"8e01f17c-9e6e-46a8-8eaf-3b64a5435616\" type=\"checkbox\" ><label class=\"sk-toggleable__label\" for=\"8e01f17c-9e6e-46a8-8eaf-3b64a5435616\">remainder</label><div class=\"sk-toggleable__content\"><pre>[0, 2, 3, 4, 5]</pre></div></div></div><div class=\"sk-serial\"><div class=\"sk-item\"><div class=\"sk-estimator sk-toggleable\"><input class=\"sk-toggleable__control sk-hidden--visually\" id=\"9716b56a-e630-4e8d-ad94-6bd790d199b1\" type=\"checkbox\" ><label class=\"sk-toggleable__label\" for=\"9716b56a-e630-4e8d-ad94-6bd790d199b1\">passthrough</label><div class=\"sk-toggleable__content\"><pre>passthrough</pre></div></div></div></div></div></div></div></div><div class=\"sk-item sk-dashed-wrapped\"><div class=\"sk-label-container\"><div class=\"sk-label sk-toggleable\"><input class=\"sk-toggleable__control sk-hidden--visually\" id=\"0a83df4a-9b3c-4c4f-b1bd-546d946d37d2\" type=\"checkbox\" ><label class=\"sk-toggleable__label\" for=\"0a83df4a-9b3c-4c4f-b1bd-546d946d37d2\">trf3: ColumnTransformer</label><div class=\"sk-toggleable__content\"><pre>ColumnTransformer(transformers=[('scale', MinMaxScaler(), slice(0, 10, None))])</pre></div></div></div><div class=\"sk-parallel\"><div class=\"sk-parallel-item\"><div class=\"sk-item\"><div class=\"sk-label-container\"><div class=\"sk-label sk-toggleable\"><input class=\"sk-toggleable__control sk-hidden--visually\" id=\"e0e9e5bb-7654-4439-b0e4-5e82b79f83a0\" type=\"checkbox\" ><label class=\"sk-toggleable__label\" for=\"e0e9e5bb-7654-4439-b0e4-5e82b79f83a0\">scale</label><div class=\"sk-toggleable__content\"><pre>slice(0, 10, None)</pre></div></div></div><div class=\"sk-serial\"><div class=\"sk-item\"><div class=\"sk-estimator sk-toggleable\"><input class=\"sk-toggleable__control sk-hidden--visually\" id=\"b746c174-c8cb-471f-9b26-72706d8cba85\" type=\"checkbox\" ><label class=\"sk-toggleable__label\" for=\"b746c174-c8cb-471f-9b26-72706d8cba85\">MinMaxScaler</label><div class=\"sk-toggleable__content\"><pre>MinMaxScaler()</pre></div></div></div></div></div></div></div></div><div class=\"sk-item\"><div class=\"sk-estimator sk-toggleable\"><input class=\"sk-toggleable__control sk-hidden--visually\" id=\"d29dbf9a-37f0-4867-ae8b-de1631929177\" type=\"checkbox\" ><label class=\"sk-toggleable__label\" for=\"d29dbf9a-37f0-4867-ae8b-de1631929177\">SelectKBest</label><div class=\"sk-toggleable__content\"><pre>SelectKBest(k=8, score_func=<function chi2 at 0x000002323A98C280>)</pre></div></div></div><div class=\"sk-item\"><div class=\"sk-estimator sk-toggleable\"><input class=\"sk-toggleable__control sk-hidden--visually\" id=\"61bfed01-cb90-4d30-a293-a239266f67c7\" type=\"checkbox\" ><label class=\"sk-toggleable__label\" for=\"61bfed01-cb90-4d30-a293-a239266f67c7\">DecisionTreeClassifier</label><div class=\"sk-toggleable__content\"><pre>DecisionTreeClassifier()</pre></div></div></div></div></div></div></div>"
      ],
      "text/plain": [
       "Pipeline(steps=[('trf1',\n",
       "                 ColumnTransformer(remainder='passthrough',\n",
       "                                   transformers=[('Impute Age', SimpleImputer(),\n",
       "                                                  [2]),\n",
       "                                                 ('impute_embarked',\n",
       "                                                  SimpleImputer(strategy='most_frequent'),\n",
       "                                                  [6])])),\n",
       "                ('trf2',\n",
       "                 ColumnTransformer(remainder='passthrough',\n",
       "                                   transformers=[('OHE_SEX_Embarked',\n",
       "                                                  OneHotEncoder(handle_unknown='ignore',\n",
       "                                                                sparse=False),\n",
       "                                                  [1, 6])])),\n",
       "                ('trf3',\n",
       "                 ColumnTransformer(transformers=[('scale', MinMaxScaler(),\n",
       "                                                  slice(0, 10, None))])),\n",
       "                ('trf4',\n",
       "                 SelectKBest(k=8,\n",
       "                             score_func=<function chi2 at 0x000002323A98C280>)),\n",
       "                ('trf5', DecisionTreeClassifier())])"
      ]
     },
     "execution_count": 5,
     "metadata": {},
     "output_type": "execute_result"
    }
   ],
   "source": [
    "pipe"
   ]
  },
  {
   "cell_type": "code",
   "execution_count": 6,
   "id": "37f29f37",
   "metadata": {},
   "outputs": [],
   "source": [
    "test_input2=np.array([2,\"female\",32.0,0,0,15.2,\"S\"], dtype=object).reshape(1,7)"
   ]
  },
  {
   "cell_type": "code",
   "execution_count": 7,
   "id": "d4ad2322",
   "metadata": {},
   "outputs": [
    {
     "data": {
      "text/plain": [
       "array([0], dtype=int64)"
      ]
     },
     "execution_count": 7,
     "metadata": {},
     "output_type": "execute_result"
    }
   ],
   "source": [
    "pipe.predict(test_input2)"
   ]
  },
  {
   "cell_type": "markdown",
   "id": "2cac12b5",
   "metadata": {},
   "source": [
    "# Done 😍😎"
   ]
  },
  {
   "cell_type": "code",
   "execution_count": null,
   "id": "a78ef9e3",
   "metadata": {},
   "outputs": [],
   "source": []
  }
 ],
 "metadata": {
  "kernelspec": {
   "display_name": "Python 3 (ipykernel)",
   "language": "python",
   "name": "python3"
  },
  "language_info": {
   "codemirror_mode": {
    "name": "ipython",
    "version": 3
   },
   "file_extension": ".py",
   "mimetype": "text/x-python",
   "name": "python",
   "nbconvert_exporter": "python",
   "pygments_lexer": "ipython3",
   "version": "3.9.15"
  }
 },
 "nbformat": 4,
 "nbformat_minor": 5
}
